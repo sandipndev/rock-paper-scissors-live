{
 "cells": [
  {
   "cell_type": "code",
   "execution_count": 17,
   "metadata": {},
   "outputs": [],
   "source": [
    "import numpy as np\n",
    "import matplotlib.pyplot as plt\n",
    "from sklearn.model_selection import train_test_split\n",
    "from sklearn.metrics import confusion_matrix\n",
    "import tensorflow as tf\n",
    "from tensorflow.keras.layers import Conv2D, MaxPooling2D, Dense, Flatten, Activation\n",
    "from tensorflow.keras.callbacks import TensorBoard\n",
    "from seaborn import heatmap"
   ]
  },
  {
   "cell_type": "code",
   "execution_count": 2,
   "metadata": {},
   "outputs": [],
   "source": [
    "# Loading back the data\n",
    "\n",
    "import pickle\n",
    "\n",
    "with open(\"X.pkl\", \"rb\") as handle:\n",
    "    X = pickle.load(handle)\n",
    "with open(\"Y.pkl\", \"rb\") as handle:\n",
    "    Y = pickle.load(handle)\n",
    "with open(\"classes.pkl\", \"rb\") as handle:\n",
    "    classes = pickle.load(handle)"
   ]
  },
  {
   "cell_type": "code",
   "execution_count": 3,
   "metadata": {},
   "outputs": [],
   "source": [
    "X = X/255.0"
   ]
  },
  {
   "cell_type": "code",
   "execution_count": 4,
   "metadata": {},
   "outputs": [],
   "source": [
    "X_train, X_test, y_train, y_test = train_test_split(X, Y, test_size=0.25)"
   ]
  },
  {
   "cell_type": "code",
   "execution_count": 5,
   "metadata": {},
   "outputs": [
    {
     "name": "stdout",
     "output_type": "stream",
     "text": [
      "WARNING:tensorflow:From c:\\python36\\lib\\site-packages\\tensorflow\\python\\ops\\resource_variable_ops.py:435: colocate_with (from tensorflow.python.framework.ops) is deprecated and will be removed in a future version.\n",
      "Instructions for updating:\n",
      "Colocations handled automatically by placer.\n"
     ]
    }
   ],
   "source": [
    "model = tf.keras.Sequential()\n",
    "\n",
    "dense_num = 0\n",
    "conv_num = 3\n",
    "layers = 64\n",
    "\n",
    "# First Convolutional Layer\n",
    "model.add(Conv2D(layers, (3,3), input_shape=X.shape[1:]))\n",
    "model.add(Activation('relu'))\n",
    "model.add(MaxPooling2D(pool_size=(2,2)))\n",
    "\n",
    "# Remaining Convolutional Layers\n",
    "for _ in range(conv_num-1):\n",
    "    model.add(Conv2D(layers, (3,3)))\n",
    "    model.add(Activation('relu'))\n",
    "    model.add(MaxPooling2D(pool_size=(2,2)))\n",
    "\n",
    "# 3D feature maps to 1D feature vector\n",
    "model.add(Flatten())\n",
    "\n",
    "# Dense Layers\n",
    "for _ in range(dense_num):\n",
    "    model.add(Dense(layers))\n",
    "    model.add(Activation('relu'))\n",
    "\n",
    "# Final Dense Layer to shrink to 3 ouput\n",
    "model.add(Dense(3))\n",
    "model.add(Activation('sigmoid'))"
   ]
  },
  {
   "cell_type": "code",
   "execution_count": 6,
   "metadata": {},
   "outputs": [],
   "source": [
    "model.compile(loss=tf.keras.losses.sparse_categorical_crossentropy, \n",
    "              optimizer=tf.keras.optimizers.Adam(), \n",
    "              metrics=['accuracy'])"
   ]
  },
  {
   "cell_type": "code",
   "execution_count": 7,
   "metadata": {
    "scrolled": false
   },
   "outputs": [
    {
     "name": "stdout",
     "output_type": "stream",
     "text": [
      "Train on 2560 samples, validate on 854 samples\n",
      "Epoch 1/50\n",
      "2560/2560 [==============================] - 2s 919us/sample - loss: 1.0054 - acc: 0.4598 - val_loss: 0.8213 - val_acc: 0.5867\n",
      "Epoch 2/50\n",
      "2560/2560 [==============================] - 1s 305us/sample - loss: 0.5701 - acc: 0.7688 - val_loss: 0.4224 - val_acc: 0.8290\n",
      "Epoch 3/50\n",
      "2560/2560 [==============================] - 1s 305us/sample - loss: 0.3259 - acc: 0.8891 - val_loss: 0.2773 - val_acc: 0.8946\n",
      "Epoch 4/50\n",
      "2560/2560 [==============================] - 1s 305us/sample - loss: 0.2153 - acc: 0.9273 - val_loss: 0.2500 - val_acc: 0.8993\n",
      "Epoch 5/50\n",
      "2560/2560 [==============================] - 1s 308us/sample - loss: 0.1555 - acc: 0.9523 - val_loss: 0.1758 - val_acc: 0.9461\n",
      "Epoch 6/50\n",
      "2560/2560 [==============================] - 1s 305us/sample - loss: 0.1085 - acc: 0.9680 - val_loss: 0.1083 - val_acc: 0.9590\n",
      "Epoch 7/50\n",
      "2560/2560 [==============================] - 1s 307us/sample - loss: 0.0712 - acc: 0.9824 - val_loss: 0.0928 - val_acc: 0.9766\n",
      "Epoch 8/50\n",
      "2560/2560 [==============================] - 1s 308us/sample - loss: 0.0459 - acc: 0.9910 - val_loss: 0.0633 - val_acc: 0.9848\n",
      "Epoch 9/50\n",
      "2560/2560 [==============================] - 1s 308us/sample - loss: 0.0395 - acc: 0.9891 - val_loss: 0.0627 - val_acc: 0.9754\n",
      "Epoch 10/50\n",
      "2560/2560 [==============================] - 1s 311us/sample - loss: 0.0295 - acc: 0.9961 - val_loss: 0.0392 - val_acc: 0.9871\n",
      "Epoch 11/50\n",
      "2560/2560 [==============================] - 1s 305us/sample - loss: 0.0167 - acc: 0.9980 - val_loss: 0.0332 - val_acc: 0.9930\n",
      "Epoch 12/50\n",
      "2560/2560 [==============================] - 1s 308us/sample - loss: 0.0108 - acc: 0.9988 - val_loss: 0.0364 - val_acc: 0.9906\n",
      "Epoch 13/50\n",
      "2560/2560 [==============================] - 1s 305us/sample - loss: 0.0091 - acc: 0.9992 - val_loss: 0.0358 - val_acc: 0.9918\n",
      "Epoch 14/50\n",
      "2560/2560 [==============================] - 1s 308us/sample - loss: 0.0068 - acc: 0.9996 - val_loss: 0.0368 - val_acc: 0.9930\n",
      "Epoch 15/50\n",
      "2560/2560 [==============================] - 1s 311us/sample - loss: 0.0050 - acc: 0.9996 - val_loss: 0.0431 - val_acc: 0.9883\n",
      "Epoch 16/50\n",
      "2560/2560 [==============================] - 1s 311us/sample - loss: 0.0037 - acc: 1.0000 - val_loss: 0.0288 - val_acc: 0.9930\n",
      "Epoch 17/50\n",
      "2560/2560 [==============================] - 1s 311us/sample - loss: 0.0048 - acc: 1.0000 - val_loss: 0.0375 - val_acc: 0.9871\n",
      "Epoch 18/50\n",
      "2560/2560 [==============================] - 1s 305us/sample - loss: 0.0135 - acc: 0.9961 - val_loss: 0.0403 - val_acc: 0.9918\n",
      "Epoch 19/50\n",
      "2560/2560 [==============================] - 1s 309us/sample - loss: 0.0046 - acc: 1.0000 - val_loss: 0.0294 - val_acc: 0.9953\n",
      "Epoch 20/50\n",
      "2560/2560 [==============================] - 1s 325us/sample - loss: 0.0019 - acc: 1.0000 - val_loss: 0.0336 - val_acc: 0.9953\n",
      "Epoch 21/50\n",
      "2560/2560 [==============================] - 1s 308us/sample - loss: 0.0020 - acc: 1.0000 - val_loss: 0.0289 - val_acc: 0.9953\n",
      "Epoch 22/50\n",
      "2560/2560 [==============================] - 1s 308us/sample - loss: 0.0013 - acc: 1.0000 - val_loss: 0.0348 - val_acc: 0.9930\n",
      "Epoch 23/50\n",
      "2560/2560 [==============================] - 1s 308us/sample - loss: 0.0011 - acc: 1.0000 - val_loss: 0.0303 - val_acc: 0.9953\n",
      "Epoch 24/50\n",
      "2560/2560 [==============================] - 1s 308us/sample - loss: 0.0010 - acc: 1.0000 - val_loss: 0.0292 - val_acc: 0.9930\n",
      "Epoch 25/50\n",
      "2560/2560 [==============================] - 1s 308us/sample - loss: 8.8468e-04 - acc: 1.0000 - val_loss: 0.0281 - val_acc: 0.9953\n",
      "Epoch 26/50\n",
      "2560/2560 [==============================] - 1s 317us/sample - loss: 8.0124e-04 - acc: 1.0000 - val_loss: 0.0335 - val_acc: 0.9953\n",
      "Epoch 27/50\n",
      "2560/2560 [==============================] - 1s 311us/sample - loss: 8.0684e-04 - acc: 1.0000 - val_loss: 0.0286 - val_acc: 0.9953\n",
      "Epoch 28/50\n",
      "2560/2560 [==============================] - 1s 307us/sample - loss: 6.2423e-04 - acc: 1.0000 - val_loss: 0.0335 - val_acc: 0.9953\n",
      "Epoch 29/50\n",
      "2560/2560 [==============================] - 1s 321us/sample - loss: 5.8256e-04 - acc: 1.0000 - val_loss: 0.0299 - val_acc: 0.9941\n",
      "Epoch 30/50\n",
      "2560/2560 [==============================] - 1s 311us/sample - loss: 5.2748e-04 - acc: 1.0000 - val_loss: 0.0299 - val_acc: 0.9930\n",
      "Epoch 31/50\n",
      "2560/2560 [==============================] - 1s 311us/sample - loss: 5.2630e-04 - acc: 1.0000 - val_loss: 0.0308 - val_acc: 0.9953\n",
      "Epoch 32/50\n",
      "2560/2560 [==============================] - 1s 308us/sample - loss: 4.2908e-04 - acc: 1.0000 - val_loss: 0.0309 - val_acc: 0.9953\n",
      "Epoch 33/50\n",
      "2560/2560 [==============================] - 1s 308us/sample - loss: 4.2044e-04 - acc: 1.0000 - val_loss: 0.0293 - val_acc: 0.9953\n",
      "Epoch 34/50\n",
      "2560/2560 [==============================] - 1s 308us/sample - loss: 3.7413e-04 - acc: 1.0000 - val_loss: 0.0312 - val_acc: 0.9953\n",
      "Epoch 35/50\n",
      "2560/2560 [==============================] - 1s 325us/sample - loss: 3.5107e-04 - acc: 1.0000 - val_loss: 0.0333 - val_acc: 0.9941\n",
      "Epoch 36/50\n",
      "2560/2560 [==============================] - 1s 311us/sample - loss: 3.1978e-04 - acc: 1.0000 - val_loss: 0.0350 - val_acc: 0.9953\n",
      "Epoch 37/50\n",
      "2560/2560 [==============================] - 1s 305us/sample - loss: 3.1802e-04 - acc: 1.0000 - val_loss: 0.0306 - val_acc: 0.9953\n",
      "Epoch 38/50\n",
      "2560/2560 [==============================] - 1s 311us/sample - loss: 2.8435e-04 - acc: 1.0000 - val_loss: 0.0317 - val_acc: 0.9953\n",
      "Epoch 39/50\n",
      "2560/2560 [==============================] - 1s 307us/sample - loss: 2.5558e-04 - acc: 1.0000 - val_loss: 0.0334 - val_acc: 0.9941\n",
      "Epoch 40/50\n",
      "2560/2560 [==============================] - 1s 309us/sample - loss: 2.4489e-04 - acc: 1.0000 - val_loss: 0.0324 - val_acc: 0.9953\n",
      "Epoch 41/50\n",
      "2560/2560 [==============================] - 1s 321us/sample - loss: 2.2755e-04 - acc: 1.0000 - val_loss: 0.0333 - val_acc: 0.9953\n",
      "Epoch 42/50\n",
      "2560/2560 [==============================] - 1s 308us/sample - loss: 2.1537e-04 - acc: 1.0000 - val_loss: 0.0315 - val_acc: 0.9953\n",
      "Epoch 43/50\n",
      "2560/2560 [==============================] - 1s 308us/sample - loss: 1.9774e-04 - acc: 1.0000 - val_loss: 0.0309 - val_acc: 0.9953\n",
      "Epoch 44/50\n",
      "2560/2560 [==============================] - 1s 308us/sample - loss: 1.9665e-04 - acc: 1.0000 - val_loss: 0.0335 - val_acc: 0.9953\n",
      "Epoch 45/50\n",
      "2560/2560 [==============================] - 1s 321us/sample - loss: 1.8644e-04 - acc: 1.0000 - val_loss: 0.0370 - val_acc: 0.9953\n",
      "Epoch 46/50\n",
      "2560/2560 [==============================] - 1s 308us/sample - loss: 1.6164e-04 - acc: 1.0000 - val_loss: 0.0360 - val_acc: 0.9941\n",
      "Epoch 47/50\n",
      "2560/2560 [==============================] - 1s 308us/sample - loss: 1.6346e-04 - acc: 1.0000 - val_loss: 0.0316 - val_acc: 0.9953\n",
      "Epoch 48/50\n",
      "2560/2560 [==============================] - 1s 305us/sample - loss: 1.4916e-04 - acc: 1.0000 - val_loss: 0.0332 - val_acc: 0.9953\n",
      "Epoch 49/50\n",
      "2560/2560 [==============================] - 1s 328us/sample - loss: 1.3579e-04 - acc: 1.0000 - val_loss: 0.0338 - val_acc: 0.9953\n",
      "Epoch 50/50\n",
      "2560/2560 [==============================] - 1s 308us/sample - loss: 1.3244e-04 - acc: 1.0000 - val_loss: 0.0338 - val_acc: 0.9953\n"
     ]
    },
    {
     "data": {
      "text/plain": [
       "<tensorflow.python.keras.callbacks.History at 0x222f4eeb320>"
      ]
     },
     "execution_count": 7,
     "metadata": {},
     "output_type": "execute_result"
    }
   ],
   "source": [
    "tensorboard = TensorBoard(log_dir=\"logs/CNN-Trained\")\n",
    "\n",
    "model.fit(X_train, y_train, epochs=50, validation_data=(X_test, y_test), callbacks=[tensorboard])"
   ]
  },
  {
   "cell_type": "code",
   "execution_count": 8,
   "metadata": {},
   "outputs": [
    {
     "name": "stdout",
     "output_type": "stream",
     "text": [
      "854/854 [==============================] - 0s 130us/sample - loss: 0.0338 - acc: 0.9953\n"
     ]
    },
    {
     "data": {
      "text/plain": [
       "[0.03384877526806831, 0.99531615]"
      ]
     },
     "execution_count": 8,
     "metadata": {},
     "output_type": "execute_result"
    }
   ],
   "source": [
    "model.evaluate(X_test, y_test)"
   ]
  },
  {
   "cell_type": "code",
   "execution_count": 14,
   "metadata": {},
   "outputs": [
    {
     "name": "stdout",
     "output_type": "stream",
     "text": [
      "[0 2 2 0 1 0 0 2 1 2 1 1 2 2 0 0 2 0 1 1 2 1 2 2 2 2 2 1 2 0 1 1 0 2 0 1 1\n",
      " 2 0 0 1 0 2 1 2 1 0 0 1 0 0 2 1 0 1 1 2 2 1 1 2 1 2 2 0 0 1 0 2 2 1 0 2 2\n",
      " 1 2 0 0 1 2 0 1 0 2 1 1 0 1 1 0 2 1 0 0 2 2 2 0 2 2 0 2 0 0 0 0 2 1 1 0 2\n",
      " 0 1 0 0 0 2 1 0 0 0 2 2 1 2 2 1 1 2 0 1 2 2 2 0 2 0 1 2 0 0 1 1 0 2 0 2 0\n",
      " 1 2 1 0 1 0 2 0 0 1 0 2 2 0 1 1 1 0 1 0 1 1 1 2 1 1 1 0 0 2 2 0 1 2 2 0 1\n",
      " 2 2 1 2 0 2 0 1 1 2 2 1 1 2 1 0 2 1 1 2 0 2 1 1 1 1 2 1 2 0 0 1 0 1 1 2 2\n",
      " 2 0 1 1 0 1 1 0 0 1 1 2 1 0 1 0 0 1 1 1 1 1 0 0 2 1 2 0 2 0 1 0 0 2 1 1 0\n",
      " 2 1 1 0 2 1 0 0 1 2 0 1 2 1 2 1 1 2 2 0 0 1 2 1 1 2 0 1 1 1 1 2 2 1 2 1 0\n",
      " 0 2 0 1 1 1 0 0 2 2 0 0 1 2 0 2 1 1 1 1 0 0 1 1 0 2 0 2 1 1 2 0 0 1 0 0 1\n",
      " 0 2 0 1 1 0 1 2 0 0 0 0 1 0 2 0 0 0 2 1 2 2 2 1 0 2 2 2 2 0 1 1 1 2 2 1 2\n",
      " 0 0 2 1 1 2 2 1 1 0 1 1 0 2 0 2 1 0 0 1 0 0 0 0 0 0 1 1 1 2 0 2 2 0 0 2 2\n",
      " 2 1 1 0 1 0 2 0 2 1 2 0 0 1 1 0 1 0 2 2 1 2 1 0 1 0 2 1 2 0 2 0 1 0 1 0 0\n",
      " 0 1 1 0 0 0 0 1 2 0 2 2 0 0 2 2 1 0 1 0 2 0 2 0 2 2 0 0 2 2 1 2 0 2 0 2 1\n",
      " 2 0 2 1 0 0 0 2 2 2 2 0 1 0 0 0 2 0 1 1 0 0 2 0 0 0 1 0 2 1 2 0 2 0 0 1 0\n",
      " 1 0 1 1 0 1 2 1 2 1 0 0 2 1 1 1 2 0 0 0 0 0 2 1 1 2 0 1 0 0 2 1 1 0 0 1 1\n",
      " 2 0 1 1 0 2 1 2 1 2 1 0 2 2 1 0 1 0 2 2 2 0 0 2 0 0 2 2 0 1 0 2 1 1 2 2 1\n",
      " 0 2 0 0 0 1 2 1 2 1 2 2 1 2 0 0 2 0 1 2 2 2 1 1 0 1 1 2 2 0 1 2 1 1 0 1 0\n",
      " 0 2 1 1 0 1 2 2 0 2 2 1 2 0 1 1 0 2 0 1 0 0 0 2 1 0 0 1 0 1 0 0 2 1 1 1 2\n",
      " 2 0 2 0 1 0 0 1 0 2 0 2 2 0 0 2 1 1 0 0 0 2 0 2 0 1 2 1 2 1 1 0 1 2 1 0 2\n",
      " 0 1 0 0 1 2 2 1 0 0 0 1 1 0 1 0 1 0 2 2 1 0 2 0 2 1 1 0 2 2 0 1 2 2 0 1 2\n",
      " 2 1 0 0 2 2 0 2 2 2 1 0 2 0 2 1 2 2 2 2 1 2 1 0 0 1 1 0 0 1 1 2 0 2 2 0 1\n",
      " 2 1 0 0 0 0 1 2 2 2 2 1 0 0 0 0 2 2 2 2 1 1 1 2 0 1 0 1 1 2 2 2 0 1 1 0 0\n",
      " 1 1 0 1 0 0 0 0 2 0 0 0 2 0 1 0 0 1 0 1 1 0 1 0 2 1 0 0 0 2 1 2 1 2 2 0 2\n",
      " 0 0 0]\n"
     ]
    }
   ],
   "source": [
    "predictions = model.predict(X_test)\n",
    "\n",
    "y_pred = []\n",
    "\n",
    "for p in predictions:\n",
    "    y_pred.append(np.argmax(p))\n",
    "\n",
    "y_pred = np.array(y_pred)\n",
    "\n",
    "print(y_pred)"
   ]
  },
  {
   "cell_type": "code",
   "execution_count": 22,
   "metadata": {},
   "outputs": [
    {
     "data": {
      "text/plain": [
       "<matplotlib.axes._subplots.AxesSubplot at 0x22393f3e908>"
      ]
     },
     "execution_count": 22,
     "metadata": {},
     "output_type": "execute_result"
    },
    {
     "data": {
      "image/png": "[encoded data removed]",
      "text/plain": [
       "<Figure size 432x288 with 2 Axes>"
      ]
     },
     "metadata": {
      "needs_background": "light"
     },
     "output_type": "display_data"
    }
   ],
   "source": [
    "heatmap(confusion_matrix(y_test, y_pred), annot=True, fmt=\"d\")"
   ]
  },
  {
   "cell_type": "code",
   "execution_count": null,
   "metadata": {},
   "outputs": [],
   "source": [
    "model.save(\"model.h5\")"
   ]
  },
  {
   "cell_type": "code",
   "execution_count": null,
   "metadata": {},
   "outputs": [],
   "source": [
    "model.predict([X_test[0].reshape(-1, 40, 50, 1)])"
   ]
  },
  {
   "cell_type": "code",
   "execution_count": 24,
   "metadata": {},
   "outputs": [],
   "source": [
    "import cv2"
   ]
  },
  {
   "cell_type": "code",
   "execution_count": 26,
   "metadata": {},
   "outputs": [],
   "source": [
    "cap = cv2.VideoCapture(0)\n",
    "\n",
    "while 1:\n",
    "    ret, img = cap.read()\n",
    "    gray = cv2.cvtColor(img, cv2.COLOR_BGR2GRAY)\n",
    "    resized = cv2.resize(gray, (50, 40), interpolation=cv2.INTER_AREA)\n",
    "    \n",
    "    resized = resized / 255.0\n",
    "    prediction = classes[np.argmax(model.predict([resized.reshape(-1, 40, 50, 1)]))]\n",
    "    \n",
    "    font                   = cv2.FONT_HERSHEY_SIMPLEX\n",
    "    bottomLeftCornerOfText = (10, 400)\n",
    "    fontScale              = 3\n",
    "    fontColor              = (255,255,255)\n",
    "    lineType               = 10\n",
    "\n",
    "    cv2.putText(img, prediction, \n",
    "        bottomLeftCornerOfText, \n",
    "        font, \n",
    "        fontScale,\n",
    "        fontColor,\n",
    "        lineType)\n",
    "    \n",
    "    cv2.imshow('img',img)\n",
    "    k = cv2.waitKey(30) & 0xff\n",
    "    if k == 27:\n",
    "        break\n",
    "\n",
    "cap.release()\n",
    "cv2.destroyAllWindows()"
   ]
  },
  {
   "cell_type": "code",
   "execution_count": null,
   "metadata": {},
   "outputs": [],
   "source": []
  },
  {
   "cell_type": "code",
   "execution_count": null,
   "metadata": {},
   "outputs": [],
   "source": []
  }
 ],
 "metadata": {
  "kernelspec": {
   "display_name": "Python 3",
   "language": "python",
   "name": "python3"
  },
  "language_info": {
   "codemirror_mode": {
    "name": "ipython",
    "version": 3
   },
   "file_extension": ".py",
   "mimetype": "text/x-python",
   "name": "python",
   "nbconvert_exporter": "python",
   "pygments_lexer": "ipython3",
   "version": "3.6.7"
  }
 },
 "nbformat": 4,
 "nbformat_minor": 2
}
